{
 "cells": [
  {
   "cell_type": "code",
   "execution_count": 242,
   "metadata": {},
   "outputs": [],
   "source": [
    "import pandas as pd \n",
    "import numpy as np\n",
    "import re"
   ]
  },
  {
   "cell_type": "code",
   "execution_count": 243,
   "metadata": {},
   "outputs": [],
   "source": [
    "df = pd.read_excel('BIEU THUE XNK 2016.xlsx', sheet_name=\"CHUONG 98\", header=4).dropna(how='all').fillna(\"\")\n",
    "df['-1-'] = df['-1-'].astype('str')\n",
    "df['-2-'] = df['-2-'].astype('str')\n",
    "df[\"-2'-\"] = df[\"-2'-\"].astype('str')\n",
    "\n",
    "df['-4-'] = df['-4-'].astype('str')\n",
    "df['-5-'] = df['-5-'].astype('str')\n",
    "df[\"-6-\"] = df[\"-6-\"].astype('str')\n",
    "df[\"-7-\"] = df[\"-7-\"].astype('str')"
   ]
  },
  {
   "cell_type": "code",
   "execution_count": null,
   "metadata": {},
   "outputs": [],
   "source": [
    "df[\"-1-\"] = df['-1-'].str.replace('.', '').str.slice(0,4)\n",
    "df[\"-2-\"] = df['-2-'].str.replace('.', '').str.slice(0,2)\n",
    "df[\"-2'-\"] = df[\"-2'-\"].str.replace('.', '').str.slice(0,2)\n",
    "\n",
    "df['hs'] =  df[\"-1-\"] + df[\"-2-\"] + df[\"-2'-\"]\n",
    "\n",
    "\n",
    "def related_hs(row):\n",
    "    if not re.match('^[\\d. ]+$', row[\"-4-\"].strip()):\n",
    "        row['related_hs'] = row[\"-4-\"]\n",
    "        return row\n",
    "    row[\"-4-\"] = (\"0\" + row['-4-']).split(\".\")[0][-4:]\n",
    "    row[\"-5-\"] = (\"0\" + row['-5-']).split(\".\")[0][-2:]\n",
    "    row[\"-6-\"] = (\"0\" + row[\"-6-\"]).split(\".\")[0][-2:]\n",
    "    if re.match('^0+$', row[\"-4-\"] + row[\"-5-\"] + row[\"-6-\"]):\n",
    "        row['related_hs'] = \"\"\n",
    "        return row\n",
    "    row['related_hs'] =  row[\"-4-\"] + row[\"-5-\"] + row[\"-6-\"]\n",
    "    return row\n",
    "\n",
    "df = df.apply(related_hs, axis=1)\n",
    "df = df.drop(['Unnamed: 0', '-1-', '-2-', \"-2'-\", '-4-', '-5-', '-6-'], axis=1)\n",
    "df = df.rename(columns={\"-3-\": \"description\", \"-7-\": \"tax_rate\"})\n"
   ]
  },
  {
   "cell_type": "code",
   "execution_count": 245,
   "metadata": {},
   "outputs": [],
   "source": [
    "def insert_row(df, pos, row):\n",
    "    df2 = pd.DataFrame(np.insert(df.values, pos, values=row, axis=0))\n",
    "    df2.columns = df.columns\n",
    "    return df2"
   ]
  },
  {
   "cell_type": "code",
   "execution_count": 246,
   "metadata": {},
   "outputs": [],
   "source": [
    "def fix_heading(df):\n",
    "    for index, row in df.iterrows():\n",
    "        if len(str(row['hs'])) > 5 and not row['description'].startswith('-'):\n",
    "            new_row = row.copy()\n",
    "            new_row['hs'] = row['hs'][:2] + '.' + row['hs'][2:4]\n",
    "            df['description'][index] = \"- \" + row['description']\n",
    "            return fix_heading(insert_row(df, index, new_row))\n",
    "    return df\n",
    "\n",
    "def fix_hs(row):\n",
    "    hs = row['hs'].replace('.', '')\n",
    "    related_hs = row['related_hs'].replace('.', '')\n",
    "\n",
    "    if len(hs) == 4:\n",
    "        hs = hs[:2] + '.' + hs[2:4]\n",
    "    elif len(hs) > 4 and len(hs) < 7:\n",
    "        hs = hs[:4] + '.' + hs[4:]\n",
    "    else:\n",
    "        hs = hs[:4] + '.' + hs[4:6] + '.' + hs[6:]\n",
    "\n",
    "    if len(related_hs) == 4:\n",
    "        related_hs = related_hs[:2] + '.' + related_hs[2:4]\n",
    "    elif len(related_hs) > 4 and len(related_hs) < 7:\n",
    "        related_hs = related_hs[:4] + '.' + related_hs[4:]\n",
    "    else:\n",
    "        related_hs = related_hs[:4] + '.' + related_hs[4:6] + '.' + related_hs[6:]\n",
    "\n",
    "    if len(row['hs']) < 11 and row['hs'] != \"\":\n",
    "        row['hs'] = hs\n",
    "    if len(row['related_hs']) < 11 and row['related_hs'] != \"\":\n",
    "        row['related_hs'] = related_hs\n",
    "\n",
    "    return row\n",
    "\n",
    "df = fix_heading(df)\n",
    "df = df.apply(fix_hs, axis=1)\n",
    "\n",
    "\n",
    "# df = df.fillna(method='ffill')\n",
    "\n",
    "\n",
    "cols = ['hs', 'description', 'related_hs', 'tax_rate']\n",
    "df[cols].to_excel('chapter98.xlsx', index=False)"
   ]
  }
 ],
 "metadata": {
  "interpreter": {
   "hash": "4744879b1ea232a6c1c0f721923f08269b4369f173b01bf42db1ade4d6cbcf01"
  },
  "kernelspec": {
   "display_name": "Python 3.10.0 64-bit",
   "language": "python",
   "name": "python3"
  },
  "language_info": {
   "codemirror_mode": {
    "name": "ipython",
    "version": 3
   },
   "file_extension": ".py",
   "mimetype": "text/x-python",
   "name": "python",
   "nbconvert_exporter": "python",
   "pygments_lexer": "ipython3",
   "version": "3.10.0"
  },
  "orig_nbformat": 4
 },
 "nbformat": 4,
 "nbformat_minor": 2
}
