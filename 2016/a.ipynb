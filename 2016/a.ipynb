{
 "cells": [
  {
   "cell_type": "code",
   "execution_count": 190,
   "metadata": {},
   "outputs": [],
   "source": [
    "import pandas as pd\n",
    "import numpy as np"
   ]
  },
  {
   "cell_type": "code",
   "execution_count": 191,
   "metadata": {},
   "outputs": [],
   "source": [
    "df = pd.read_excel('BIEU THUE XNK 2016.xlsx', sheet_name=\"NHAP KHAU (FULL)\", header=5, skiprows=range(6,19), converters={'hs':str}).fillna(\"\")"
   ]
  },
  {
   "cell_type": "markdown",
   "metadata": {},
   "source": [
    "# Fix heading (02.05\tThịt ngựa, lừa, la, tươi, ướp lạnh hoặc đông lạnh.)"
   ]
  },
  {
   "cell_type": "code",
   "execution_count": 192,
   "metadata": {},
   "outputs": [],
   "source": [
    "def insert_row(df, pos, row):\n",
    "    df2 = pd.DataFrame(np.insert(df.values, pos, values=row, axis=0))\n",
    "    df2.columns = df.columns\n",
    "    return df2"
   ]
  },
  {
   "cell_type": "code",
   "execution_count": 193,
   "metadata": {},
   "outputs": [],
   "source": [
    "# 2502.00.00\n",
    "\n",
    "def fix_heading(df):\n",
    "    for index, row in df.iterrows():\n",
    "        if len(str(row['hs'])) > 5 and not row['description'].startswith('-'):\n",
    "            new_row = row.copy()\n",
    "            new_row['hs'] = row['hs'][:2] + '.' + row['hs'][2:4]\n",
    "            df['description'][index] = \"- \" + row['description']\n",
    "            return fix_heading(insert_row(df, index, new_row))\n",
    "    return df\n",
    "\n",
    "\n",
    "fixed_heading = fix_heading(df)\n",
    "fixed_heading.to_excel('fixed_heading.xlsx', index=False)"
   ]
  },
  {
   "cell_type": "markdown",
   "metadata": {},
   "source": [
    "# Remove section, chapter, all notes, general"
   ]
  },
  {
   "cell_type": "code",
   "execution_count": null,
   "metadata": {},
   "outputs": [],
   "source": [
    "def removeStuff(fixed_heading):\n",
    "    remove_index = []\n",
    "    for index, row in fixed_heading.iterrows():\n",
    "        if not row['hs'] and not row['description'].startswith('- '):\n",
    "            remove_index.append(index)\n",
    "    return fixed_heading.drop(remove_index)\n",
    "\n",
    "\n",
    "removed_df = removeStuff(fixed_heading).reset_index(drop=True)\n",
    "removed_df[\"id\"] = removed_df.index + 1\n",
    "cols = removed_df.columns.tolist()\n",
    "cols = cols[-1:] + cols[:-1]\n",
    "removed_df[cols].to_excel('removed_df.xlsx', index=False)"
   ]
  }
 ],
 "metadata": {
  "interpreter": {
   "hash": "4744879b1ea232a6c1c0f721923f08269b4369f173b01bf42db1ade4d6cbcf01"
  },
  "kernelspec": {
   "display_name": "Python 3.10.0 64-bit",
   "language": "python",
   "name": "python3"
  },
  "language_info": {
   "codemirror_mode": {
    "name": "ipython",
    "version": 3
   },
   "file_extension": ".py",
   "mimetype": "text/x-python",
   "name": "python",
   "nbconvert_exporter": "python",
   "pygments_lexer": "ipython3",
   "version": "3.10.0"
  },
  "orig_nbformat": 4
 },
 "nbformat": 4,
 "nbformat_minor": 2
}
