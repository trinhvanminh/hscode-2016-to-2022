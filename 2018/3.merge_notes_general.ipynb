{
 "cells": [
  {
   "cell_type": "code",
   "execution_count": 1,
   "metadata": {},
   "outputs": [],
   "source": [
    "import pandas as pd"
   ]
  },
  {
   "cell_type": "code",
   "execution_count": 2,
   "metadata": {},
   "outputs": [],
   "source": [
    "vi_df = pd.read_excel('../bieuthue.xlsx', sheet_name=\"VI\", header = 1, converters={'dashes':int, 'hs': str, '_nest_parent_':str}).fillna(\"\")[['hs', 'title', 'notes', 'general', '_nest_parent_']]\n",
    "vi_df = vi_df.rename(columns={'title': 'description'})\n",
    "vi_section_chapter = vi_df.iloc[17262:,:]\n",
    "\n",
    "\n",
    "en_df = pd.read_excel('../bieuthue.xlsx', sheet_name=\"EN\", header = 1, converters={'dashes':int, 'hs': str, '_nest_parent_':str}).fillna(\"\")[['hs', 'title', 'notes', 'general', '_nest_parent_']]\n",
    "en_df = en_df.rename(columns={'title': 'en_description', 'notes': 'en_notes', 'general': 'en_general'})\n",
    "en_section_chapter = en_df.iloc[17284:,:]\n",
    "\n",
    "\n",
    "section_chapter = pd.merge(vi_section_chapter, en_section_chapter, on=['hs', '_nest_parent_'], how=\"left\").fillna(\"\")\n",
    "\n",
    "ko_df = pd.read_excel('../bieuthue.xlsx', sheet_name=\"KO\", header = 1, converters={'dashes':int, 'hs': str, '_nest_parent_':str}).fillna(\"\")[['hs', 'title', 'notes', 'general', '_nest_parent_']]\n",
    "ko_df = ko_df.rename(columns={'title': 'ko_description', 'notes': 'ko_notes', 'general': 'ko_general'})\n",
    "ko_section_chapter = ko_df.iloc[17262:,:]\n",
    "\n",
    "section_chapter = pd.merge(section_chapter, ko_section_chapter, on=['hs', '_nest_parent_'], how=\"left\").fillna(\"\")\n",
    "\n",
    "section_chapter.to_excel('section_chapter.xlsx', index=False)"
   ]
  },
  {
   "cell_type": "code",
   "execution_count": 3,
   "metadata": {},
   "outputs": [],
   "source": [
    "has_nest_parent = pd.read_excel(\"has_nest_parent.xlsx\", converters={'dashes':int, 'hs': str, '_nest_parent_':str}).fillna(\"\")\n",
    "has_nest_parent['id'] = has_nest_parent.index + 1\n",
    "has_nest_parent['hs45'] = has_nest_parent['hs'].shift(45).fillna(\"\")\n",
    "has_nest_parent['hs43'] = has_nest_parent['hs'].shift(43).fillna(\"\")\n",
    "has_nest_parent['hs3'] = has_nest_parent['hs'].shift(3).fillna(\"\")\n",
    "has_nest_parent['hs1'] = has_nest_parent['hs'].shift(1).fillna(\"\")"
   ]
  },
  {
   "cell_type": "code",
   "execution_count": 4,
   "metadata": {},
   "outputs": [],
   "source": [
    "vi_df = pd.read_excel('../bieuthue.xlsx', sheet_name=\"VI\", header = 1, converters={'dashes':int, 'hs': str, '_nest_parent_':str}).fillna(\"\")[['hs', 'notes', 'general', '_nest_parent_']]\n",
    "vi_df['hs45'] = vi_df['hs'].shift(45).fillna(\"\")\n",
    "vi_df['hs43'] = vi_df['hs'].shift(43).fillna(\"\")\n",
    "vi_df['hs3'] = vi_df['hs'].shift(3).fillna(\"\")\n",
    "vi_df['hs1'] = vi_df['hs'].shift(1).fillna(\"\")"
   ]
  },
  {
   "cell_type": "code",
   "execution_count": 5,
   "metadata": {},
   "outputs": [],
   "source": [
    "vi_df_with_nest_parent = pd.merge(has_nest_parent, vi_df, on=['hs', '_nest_parent_', 'hs1', 'hs43', 'hs3', 'hs45'], how='left').fillna('')\n",
    "vi_df_with_nest_parent = vi_df_with_nest_parent.drop_duplicates(subset='id')\n",
    "# vi_df_with_nest_parent.to_excel(\"vi_df_with_nest_parent.xlsx\", index=False)\n"
   ]
  },
  {
   "cell_type": "code",
   "execution_count": 6,
   "metadata": {},
   "outputs": [],
   "source": [
    "en_df = pd.read_excel('../bieuthue.xlsx', sheet_name=\"EN\", header = 1, converters={'dashes':int, 'hs': str, '_nest_parent_':str}).fillna(\"\")[['hs', 'notes', 'general', '_nest_parent_']]\n",
    "en_df = en_df.rename(columns={'notes':'en_notes', 'general':'en_general'})\n",
    "en_df['hs45'] = en_df['hs'].shift(45).fillna(\"\")\n",
    "en_df['hs43'] = en_df['hs'].shift(43).fillna(\"\")\n",
    "en_df['hs3'] = en_df['hs'].shift(3).fillna(\"\")\n",
    "en_df['hs1'] = en_df['hs'].shift(1).fillna(\"\")"
   ]
  },
  {
   "cell_type": "code",
   "execution_count": 7,
   "metadata": {},
   "outputs": [],
   "source": [
    "en_vi_df_with_nest_parent = pd.merge(vi_df_with_nest_parent, en_df, on=['hs', '_nest_parent_', 'hs1', 'hs43', 'hs3', 'hs45'], how='left').fillna('')\n",
    "en_vi_df_with_nest_parent = en_vi_df_with_nest_parent.drop_duplicates(subset='id')\n",
    "# en_vi_df_with_nest_parent.to_excel('en_vi_df_with_nest_parent.xlsx', index=False)"
   ]
  },
  {
   "cell_type": "code",
   "execution_count": 8,
   "metadata": {},
   "outputs": [],
   "source": [
    "ko_df = pd.read_excel('../bieuthue.xlsx', sheet_name=\"KO\", header = 1, converters={'dashes':int, 'hs': str, '_nest_parent_':str}).fillna(\"\")[['hs', 'title', 'notes', 'general', '_nest_parent_']]\n",
    "ko_df = ko_df.rename(columns = {'title': 'ko_description', 'notes': 'ko_notes', 'general': 'ko_general'})\n",
    "ko_df['hs45'] = ko_df['hs'].shift(45).fillna(\"\")\n",
    "ko_df['hs43'] = ko_df['hs'].shift(43).fillna(\"\")\n",
    "ko_df['hs3'] = ko_df['hs'].shift(3).fillna(\"\")\n",
    "ko_df['hs1'] = ko_df['hs'].shift(1).fillna(\"\")"
   ]
  },
  {
   "cell_type": "code",
   "execution_count": 9,
   "metadata": {},
   "outputs": [],
   "source": [
    "ko_en_vi_with_nest_parent = pd.merge(en_vi_df_with_nest_parent, ko_df, on=['hs', '_nest_parent_', 'hs1', 'hs43', 'hs3', 'hs45'], how='left').fillna('')\n",
    "ko_en_vi_with_nest_parent = ko_en_vi_with_nest_parent.drop_duplicates(subset='id') # maybe lost wrong data\n",
    "df = ko_en_vi_with_nest_parent.append(section_chapter, ignore_index=True).reset_index(drop=True)\n",
    "df['id'] = df.index + 1"
   ]
  },
  {
   "cell_type": "code",
   "execution_count": 10,
   "metadata": {},
   "outputs": [],
   "source": [
    "def fix_missing_ko_description(row):\n",
    "    if row['ko_description'] == '':\n",
    "        try:\n",
    "            lookup = ko_df.loc[ko_df['hs'] == row['hs']]\n",
    "            row['ko_description'] = lookup.iloc[0]['ko_description']\n",
    "        except:\n",
    "            return row\n",
    "    return row\n",
    "\n",
    "fixed_df = df.apply(fix_missing_ko_description, axis=1)\n",
    "# fixed_df.to_excel('fixed_df.xlsx', index=False)"
   ]
  },
  {
   "cell_type": "code",
   "execution_count": 11,
   "metadata": {},
   "outputs": [],
   "source": [
    "regulation_id = pd.read_excel('../bieuthue.xlsx', sheet_name=\"Chỉnh regulation tại cột vàng\").fillna(\"\")[['hs', 'regulation_id']].drop_duplicates(subset='hs')\n",
    "fixed_df_added_regulation_id = pd.merge(fixed_df, regulation_id, on='hs', how='left', validate=\"many_to_one\").fillna('')\n",
    "rcep = pd.read_excel('../bieuthue.xlsx', sheet_name=\"RCEP\", header=4)[['hs', 'RCEP_China', 'RCEP_NewZealand', 'RCEP_Japan', 'RCEP_Korea', 'RCEP_Australia', 'RCEP_Asean']]\n",
    "df = pd.merge(fixed_df_added_regulation_id, rcep, on='hs', how='left', validate=\"many_to_one\").fillna(\"\")\n",
    "df = df.drop(columns = ['hs1', 'hs45', 'hs43', 'hs3'])"
   ]
  },
  {
   "cell_type": "code",
   "execution_count": 14,
   "metadata": {},
   "outputs": [],
   "source": [
    "cols = df.columns.to_list()\n",
    "disire_cols = ['id','dashes','hs','description','en_description','ko_description','notes','en_notes','ko_notes','general','en_general','ko_general','_nest_parent_','unit_of_quantity', 'en_unit_of_quantity', 'related_hs']\n",
    "cols = disire_cols + cols[9:-14] + cols[-7:]\n",
    "df[cols].to_excel('result.xlsx', index = False)"
   ]
  }
 ],
 "metadata": {
  "interpreter": {
   "hash": "4744879b1ea232a6c1c0f721923f08269b4369f173b01bf42db1ade4d6cbcf01"
  },
  "kernelspec": {
   "display_name": "Python 3.10.0 64-bit",
   "language": "python",
   "name": "python3"
  },
  "language_info": {
   "codemirror_mode": {
    "name": "ipython",
    "version": 3
   },
   "file_extension": ".py",
   "mimetype": "text/x-python",
   "name": "python",
   "nbconvert_exporter": "python",
   "pygments_lexer": "ipython3",
   "version": "3.10.0"
  },
  "orig_nbformat": 4
 },
 "nbformat": 4,
 "nbformat_minor": 2
}
