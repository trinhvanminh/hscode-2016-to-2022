{
 "cells": [
  {
   "cell_type": "code",
   "execution_count": 1,
   "metadata": {},
   "outputs": [],
   "source": [
    "import pandas as pd\n",
    "import numpy as np\n",
    "import re"
   ]
  },
  {
   "cell_type": "code",
   "execution_count": 2,
   "metadata": {},
   "outputs": [],
   "source": [
    "df = pd.read_excel('BIEU THUE XNK 2017.xlsx', sheet_name=\"Biểu thuế 2017\", header=1, skiprows=range(2,3), converters={'hs':str, 'dashes': str}).fillna(\"\")"
   ]
  },
  {
   "cell_type": "code",
   "execution_count": 3,
   "metadata": {},
   "outputs": [],
   "source": [
    "def fix_gov_data(row):\n",
    "    if str(row['IT']).startswith(\"=\"):\n",
    "        row['IT'] = \"'\" + str(row['IT'])\n",
    "    return row\n",
    "\n",
    "df = df.apply(fix_gov_data, axis=1) "
   ]
  },
  {
   "cell_type": "markdown",
   "metadata": {},
   "source": [
    "# Fix heading (ex: 25020000\tPirít sắt chưa nung.)"
   ]
  },
  {
   "cell_type": "code",
   "execution_count": 4,
   "metadata": {},
   "outputs": [],
   "source": [
    "def insert_row(df, pos, row):\n",
    "    df2 = pd.DataFrame(np.insert(df.values, pos, values=row, axis=0))\n",
    "    df2.columns = df.columns\n",
    "    return df2"
   ]
  },
  {
   "cell_type": "code",
   "execution_count": 5,
   "metadata": {},
   "outputs": [
    {
     "name": "stderr",
     "output_type": "stream",
     "text": [
      "C:\\Users\\nguye\\AppData\\Local\\Temp/ipykernel_17784/630048184.py:12: SettingWithCopyWarning: \n",
      "A value is trying to be set on a copy of a slice from a DataFrame\n",
      "\n",
      "See the caveats in the documentation: https://pandas.pydata.org/pandas-docs/stable/user_guide/indexing.html#returning-a-view-versus-a-copy\n",
      "  df['description'][index] = \"- \" + row['description']\n",
      "C:\\Users\\nguye\\AppData\\Local\\Temp/ipykernel_17784/630048184.py:13: SettingWithCopyWarning: \n",
      "A value is trying to be set on a copy of a slice from a DataFrame\n",
      "\n",
      "See the caveats in the documentation: https://pandas.pydata.org/pandas-docs/stable/user_guide/indexing.html#returning-a-view-versus-a-copy\n",
      "  df['dashes'][index] = 1\n",
      "C:\\Users\\nguye\\AppData\\Local\\Temp/ipykernel_17784/630048184.py:16: SettingWithCopyWarning: \n",
      "A value is trying to be set on a copy of a slice from a DataFrame\n",
      "\n",
      "See the caveats in the documentation: https://pandas.pydata.org/pandas-docs/stable/user_guide/indexing.html#returning-a-view-versus-a-copy\n",
      "  df['dashes'][index] = 1\n",
      "C:\\Users\\nguye\\AppData\\Local\\Temp/ipykernel_17784/630048184.py:7: SettingWithCopyWarning: \n",
      "A value is trying to be set on a copy of a slice from a DataFrame\n",
      "\n",
      "See the caveats in the documentation: https://pandas.pydata.org/pandas-docs/stable/user_guide/indexing.html#returning-a-view-versus-a-copy\n",
      "  df['description'][index] = \"- \" + row['description']\n",
      "C:\\Users\\nguye\\AppData\\Local\\Temp/ipykernel_17784/630048184.py:8: SettingWithCopyWarning: \n",
      "A value is trying to be set on a copy of a slice from a DataFrame\n",
      "\n",
      "See the caveats in the documentation: https://pandas.pydata.org/pandas-docs/stable/user_guide/indexing.html#returning-a-view-versus-a-copy\n",
      "  df['dashes'][index] = 1\n"
     ]
    }
   ],
   "source": [
    "# 2502.00.00\n",
    "\n",
    "def fix_heading(df):\n",
    "    for index, row in df.iterrows():\n",
    "        if re.match('^\\d{4}0000$', str(row['hs'])) and not row['description'].startswith('-'):\n",
    "            if row['hs'][:4] in df['hs'].unique():\n",
    "                df['description'][index] = \"- \" + row['description']\n",
    "                df['dashes'][index] = 1\n",
    "            else:\n",
    "                new_row = row.copy()\n",
    "                new_row['hs'] = row['hs'][:4]\n",
    "                df['description'][index] = \"- \" + row['description']\n",
    "                df['dashes'][index] = 1\n",
    "                return fix_heading(insert_row(df, index, new_row))\n",
    "        elif str(row['hs']) == '98050000':\n",
    "            df['dashes'][index] = 1\n",
    "            if row['hs'][:4] not in df['hs'].unique():\n",
    "                new_row = row.copy()\n",
    "                new_row['hs'] = row['hs'][:4]\n",
    "                new_row['description'] = row['description'].replace('-', '')\n",
    "                return fix_heading(insert_row(df, index, new_row))\n",
    "    return df\n",
    "\n",
    "# 98.08 cos gach -\n",
    "def fix_hs(df):\n",
    "    for index, row in df.iterrows():\n",
    "        if re.match('^\\d{2}.\\d{2}$', str(row['hs'])) and str(row['description']).startswith('-'):\n",
    "            df['hs'][index] = str(row['hs']).replace('.', '') + '.00.00'\n",
    "    return df\n",
    "\n",
    "def add_dot_to_hs(row):\n",
    "    hs = row['hs'].replace('.','')\n",
    "    if len(hs) > 4 and len(hs) < 7:\n",
    "        row['hs'] = hs[:4] + '.' + hs[4:]\n",
    "    elif len(hs) >= 7 and len(hs) <= 8:\n",
    "        row['hs'] = hs[:4] + '.' + hs[4:6] + '.' + hs[6:]\n",
    "    elif len(hs) == 4:\n",
    "        row['hs'] = hs[:2] + '.' + hs[2:]\n",
    "    return row\n",
    "\n",
    "def add_dot_to_related_hs(row):\n",
    "    hs = row['related_hs'].replace('.','')\n",
    "    if len(hs) > 4 and len(hs) < 7:\n",
    "        row['related_hs'] = hs[:4] + '.' + hs[4:]\n",
    "    elif len(hs) >= 7 and len(hs) <= 8:\n",
    "        row['related_hs'] = hs[:4] + '.' + hs[4:6] + '.' + hs[6:]\n",
    "    elif len(hs) == 4:\n",
    "        row['related_hs'] = hs[:2] + '.' + hs[2:]\n",
    "    return row\n",
    "\n",
    "\n",
    "fixed_heading = fix_heading(df)\n",
    "fixed_heading = fixed_heading.apply(add_dot_to_hs, axis=1)\n",
    "fixed_heading = fixed_heading.apply(add_dot_to_related_hs, axis=1)\n",
    "fixed_heading = fix_hs(fixed_heading)\n",
    "# fixed_heading.to_excel('fixed_heading.xlsx', index=False)"
   ]
  },
  {
   "cell_type": "markdown",
   "metadata": {},
   "source": [
    "# Remove section, chapter, all notes, general"
   ]
  },
  {
   "cell_type": "code",
   "execution_count": 6,
   "metadata": {},
   "outputs": [],
   "source": [
    "def removeStuff(fixed_heading):\n",
    "    remove_index = []\n",
    "    for index, row in fixed_heading.iterrows():\n",
    "        if not row['hs'] and not row['description'].startswith('- '):\n",
    "            remove_index.append(index)\n",
    "    return fixed_heading.drop(remove_index)\n",
    "\n",
    "removed_df = removeStuff(fixed_heading).reset_index(drop=True)"
   ]
  },
  {
   "cell_type": "code",
   "execution_count": 7,
   "metadata": {},
   "outputs": [],
   "source": [
    "removed_df[\"id\"] = removed_df.index + 1\n",
    "cols = removed_df.columns.tolist()\n",
    "cols = cols[-1:] + cols[:-1]\n",
    "removed_df[cols].to_excel('removed_df.xlsx', index=False)"
   ]
  }
 ],
 "metadata": {
  "interpreter": {
   "hash": "4744879b1ea232a6c1c0f721923f08269b4369f173b01bf42db1ade4d6cbcf01"
  },
  "kernelspec": {
   "display_name": "Python 3.10.0 64-bit",
   "language": "python",
   "name": "python3"
  },
  "language_info": {
   "codemirror_mode": {
    "name": "ipython",
    "version": 3
   },
   "file_extension": ".py",
   "mimetype": "text/x-python",
   "name": "python",
   "nbconvert_exporter": "python",
   "pygments_lexer": "ipython3",
   "version": "3.10.0"
  },
  "orig_nbformat": 4
 },
 "nbformat": 4,
 "nbformat_minor": 2
}
