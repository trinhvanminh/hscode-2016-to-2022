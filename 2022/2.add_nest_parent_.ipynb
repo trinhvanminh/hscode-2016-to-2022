{
 "cells": [
  {
   "cell_type": "code",
   "execution_count": 29,
   "metadata": {},
   "outputs": [],
   "source": [
    "import pandas as pd"
   ]
  },
  {
   "cell_type": "code",
   "execution_count": 30,
   "metadata": {},
   "outputs": [],
   "source": [
    "df = pd.read_excel('removed_df.xlsx')"
   ]
  },
  {
   "cell_type": "code",
   "execution_count": 31,
   "metadata": {},
   "outputs": [],
   "source": [
    "df['temp'] = df['hs'].fillna(method='ffill')\n",
    "df['temp2'] = df['temp'].shift(1)"
   ]
  },
  {
   "cell_type": "code",
   "execution_count": 32,
   "metadata": {},
   "outputs": [],
   "source": [
    "def get_nest_parent_(row):\n",
    "    hs = str(row['hs'])\n",
    "    if hs == 'nan':\n",
    "        if len(str(row['temp2'])) > 5:\n",
    "            return str(row['temp2'])[:2] + \".\" + str(row['temp2'])[2:4]\n",
    "        return row['temp2']\n",
    "    \n",
    "    if len(hs) > 5:\n",
    "        return hs[:2] + \".\" + hs[2:4]\n",
    "\n",
    "    return int(hs[:2])\n",
    "\n",
    "df['_nest_parent_'] = df.apply(get_nest_parent_, axis=1)\n",
    "cols = df.columns.to_list()\n",
    "cols = cols[:5] + ['_nest_parent_'] + cols[5:-4]\n",
    "\n",
    "df[cols].to_excel('has_nest_parent.xlsx', index=False)"
   ]
  }
 ],
 "metadata": {
  "interpreter": {
   "hash": "4744879b1ea232a6c1c0f721923f08269b4369f173b01bf42db1ade4d6cbcf01"
  },
  "kernelspec": {
   "display_name": "Python 3.10.0 64-bit",
   "language": "python",
   "name": "python3"
  },
  "language_info": {
   "codemirror_mode": {
    "name": "ipython",
    "version": 3
   },
   "file_extension": ".py",
   "mimetype": "text/x-python",
   "name": "python",
   "nbconvert_exporter": "python",
   "pygments_lexer": "ipython3",
   "version": "3.10.0"
  },
  "orig_nbformat": 4
 },
 "nbformat": 4,
 "nbformat_minor": 2
}
